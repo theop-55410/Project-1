{
 "cells": [
  {
   "cell_type": "code",
   "execution_count": null,
   "id": "4c9660a7-6d27-4f5c-ae49-00af86a4d5b3",
   "metadata": {},
   "outputs": [],
   "source": [
    "# Import the required libraries and dependencies\n",
    "import os\n",
    "import requests\n",
    "import json\n",
    "import pandas as pd\n",
    "from dotenv import load_dotenv\n",
    "import alpaca_trade_api as tradeapi\n",
    "from MCForecastTools import MCSimulation\n",
    "\n",
    "%matplotlib inline"
   ]
  },
  {
   "cell_type": "code",
   "execution_count": null,
   "id": "6f51084b-3543-49ef-8754-c29bd20a72a9",
   "metadata": {},
   "outputs": [],
   "source": [
    "# Load the environment variables from the .env file\n",
    "#by calling the load_dotenv function\n",
    "load_dotenv()"
   ]
  },
  {
   "cell_type": "code",
   "execution_count": null,
   "id": "a14b8f5f-bdea-4c1b-b902-09f961cabc28",
   "metadata": {},
   "outputs": [],
   "source": [
    "# Set the variables for the Alpaca API and secret keys\n",
    "alpaca_api_key = os.getenv('ALPACA_API_KEY')\n",
    "alpaca_secret_key = os.getenv('ALPACA_SECRET_KEY')\n",
    "\n",
    "# Create the Alpaca tradeapi.REST object\n",
    "alpaca = tradeapi.REST(alpaca_api_key, alpaca_secret_key, api_version = \"v2\")"
   ]
  },
  {
   "cell_type": "code",
   "execution_count": null,
   "id": "37085c51-e05a-46d8-80af-aa8a7d43608b",
   "metadata": {},
   "outputs": [],
   "source": [
    "# Set the tickers for both the bond and stock portion of the portfolio\n",
    "#SPY = S&P500\n",
    "#AGG= Core US Aggregate Bond ETF\n",
    "#QQQ= QQQ tracks a modified-market-cap-weighted index of 100 NASDAQ-listed stocks.\n",
    "#VTV= Value ETF (Provides a convenient way to match the performance of many of the nation’s largest value stocks), \n",
    "#IEMG = Emerging Market ETF\n",
    "#IWM = Russell 2000 index ETF (small cap)\n",
    "tickers = ['SPY', 'AGG', 'QQQ','VTV', 'IEMG', 'IWM']\n",
    "\n",
    "# Set timeframe to 1D \n",
    "timeframe = \"1Day\"\n",
    "\n",
    "# Format current date as ISO format\n",
    "# Set both the start and end date at the date of your prior weekday \n",
    "# This will give you the closing price of the previous trading day\n",
    "# Alternatively you can use a start and end date of 2020-08-07\n",
    "start_date = pd.Timestamp(\"2017-01-01T00:00:00\", tz = \"America/Los_Angeles\").isoformat()\n",
    "end_date = pd.Timestamp(\"2021-12-31T00:00:00\", tz = \"America/Los_Angeles\").isoformat()\n",
    "limit_rows = 10000\n",
    "\n"
   ]
  },
  {
   "cell_type": "code",
   "execution_count": null,
   "id": "d7eb45a3-f950-46bf-a8b9-dfe806b53710",
   "metadata": {},
   "outputs": [],
   "source": [
    "#function that accepts a variable string ticker for pulling the dataframe from alpaca\n",
    "def puller(ticker):\n",
    "    df1 = alpaca.get_bars(ticker, \n",
    "                          timeframe, \n",
    "                          start=start_date, \n",
    "                          end=end_date, \n",
    "                          limit=limit_rows).df\n",
    "    return df1\n",
    "\n",
    "#function for structuring dataframe so MCsimulation will accept as input\n",
    "def structuredata(df, ticker):    \n",
    "    col_names = [(ticker, x) for x in df.columns]\n",
    "    df.columns = pd.MultiIndex.from_tuples(col_names)\n",
    "    return df\n",
    "\n",
    "#function to merge two dfs into MCsimulation format\n",
    "def merger(df1, df2):\n",
    "        df_merged = pd.merge(df1, df2, how = \"inner\", left_index=True, right_index=True)\n",
    "        return df_merged\n",
    "\n",
    "#run function that accepts a list of strings and other defined other variables needed for structuring the combined data\n",
    "def run(list, currentdf, ticker):\n",
    "        if(list.index(ticker) == 0):\n",
    "                df = puller(ticker)\n",
    "                df = structuredata(df, ticker)\n",
    "                #display(df.head())\n",
    "                #print('hi')\n",
    "                return df\n",
    "        else:        \n",
    "                df = puller(ticker)\n",
    "                df = structuredata(df, ticker)\n",
    "                df = merger(currentdf, df)\n",
    "                #display(df.head())\n",
    "                #print('ho')\n",
    "                return df\n",
    "\n",
    "MCdf = pd.DataFrame()\n",
    "\n",
    "for i in tickers:\n",
    "        MCdf = run(tickers, MCdf, i)\n",
    "\n",
    "display(MCdf.head())\n"
   ]
  },
  {
   "cell_type": "code",
   "execution_count": null,
   "id": "23da0f79-c046-4617-96a1-6e613789169e",
   "metadata": {},
   "outputs": [],
   "source": [
    "# Configure the Monte Carlo simulation to forecast 30 years cumulative returns\n",
    "# The weights can be split in any fashion between tickers ['SPY', 'AGG', 'QQQ','VTV', 'IEMG', 'IWM']\n",
    "# Run 500 samples.\n",
    "MC_equal_weight = MCSimulation(\n",
    "    portfolio_data = MCdf,\n",
    "    weights = [.4, .2, .1, .1, .1, .1],\n",
    "    num_simulation = 500,\n",
    "    num_trading_days = 252*10\n",
    ")\n",
    "\n",
    "# Review the simulation input data\n",
    "# Printing the first five rows of the simulation input data\n",
    "MC_equal_weight.portfolio_data.head()"
   ]
  },
  {
   "cell_type": "code",
   "execution_count": null,
   "id": "86e39200-095d-4e95-8d7b-e399312f70ae",
   "metadata": {},
   "outputs": [],
   "source": [
    "MC_equal_weight.calc_cumulative_return()"
   ]
  },
  {
   "cell_type": "code",
   "execution_count": null,
   "id": "c3761761-5b84-4f6c-88d9-98a12e0f41d2",
   "metadata": {},
   "outputs": [],
   "source": [
    "#MC_equal_weight_plot = MC_equal_weight.plot_simulation()\n",
    "MC_equal_weight_dist = MC_equal_weight.plot_distribution()\n",
    "MC_summary_stats = MC_equal_weight.summarize_cumulative_return()\n",
    "print(MC_summary_stats)"
   ]
  },
  {
   "cell_type": "code",
   "execution_count": null,
   "id": "c58791d2",
   "metadata": {},
   "outputs": [],
   "source": [
    "# Using the lower and upper `95%` confidence intervals from the summary statistics,\n",
    "# calculate the range of the probable cumulative returns for a $500000 investment\n",
    "ci_95_lower_cumulative_return = MC_summary_stats[8] * 500000\n",
    "ci_95_upper_cumulative_return = MC_summary_stats[9] * 500000\n",
    "\n",
    "print(f\"There is a 95% chance that an initial investment of $500,000 in the portfolio\"\n",
    "    f\" over the next 5 years will end within in the range of\"\n",
    "    f\" ${ci_95_lower_cumulative_return: .2f} and ${ci_95_upper_cumulative_return: .2f}.\")"
   ]
  },
  {
   "cell_type": "code",
   "execution_count": null,
   "id": "6cc429d8",
   "metadata": {},
   "outputs": [],
   "source": [
    "\"\"\"\n",
    "Although this result presents potentially fantastic news, it’s important to note that these five-year forecasted return values are based on only three years of historical price data. The five-year forecast simulates more variability than the data that the simulation is based on includes. In general, it’s ideal to supply one year of historical data for each year of simulated data.\n",
    "\n",
    "If we simulate using only small amounts of data during a recent time when markets are booming, or instead falling precipitously, a Monte-Carlo Analysis will inadvertently extrapolate this temporary market movement too far into the future. Getting data over a longer time period mitigates this effect. Due to the limitations of the Alpaca API, however, we can typically produce just three full years of historical data.\n",
    "\"\"\""
   ]
  }
 ],
 "metadata": {
  "kernelspec": {
   "display_name": "Python (dev)",
   "language": "python",
   "name": "dev"
  },
  "language_info": {
   "codemirror_mode": {
    "name": "ipython",
    "version": 3
   },
   "file_extension": ".py",
   "mimetype": "text/x-python",
   "name": "python",
   "nbconvert_exporter": "python",
   "pygments_lexer": "ipython3",
   "version": "3.7.11"
  }
 },
 "nbformat": 4,
 "nbformat_minor": 5
}
