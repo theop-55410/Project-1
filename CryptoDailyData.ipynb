{
 "cells": [
  {
   "cell_type": "code",
   "execution_count": 1,
   "id": "2e56c229-47ad-4143-9ead-3c23f2ce7072",
   "metadata": {},
   "outputs": [],
   "source": [
    "import requests\n",
    "import json\n",
    "import pandas as pd\n",
    "from pathlib import Path\n",
    "from MCForecastTools import MCSimulation"
   ]
  },
  {
   "cell_type": "code",
   "execution_count": 2,
   "id": "8bd63304",
   "metadata": {},
   "outputs": [],
   "source": [
    "startdate = '2017-01-01'\n",
    "enddate = '2017-01-31'\n",
    "BTC = f\"https://api.polygon.io/v2/aggs/ticker/X:BTCUSD/range/1/day/{startdate}/{enddate}?adjusted=true&sort=asc&limit=5000&apiKey=EuyLkPNR5tszoUvMnR5fZMjSdoBoNxIm\"\n",
    "ETH = f\"https://api.polygon.io/v2/aggs/ticker/X:ETHUSD/range/1/day/{startdate}/{enddate}?adjusted=true&sort=asc&limit=5000&apiKey=EuyLkPNR5tszoUvMnR5fZMjSdoBoNxIm\"\n",
    "LTC = f\"https://api.polygon.io/v2/aggs/ticker/X:LTCUSD/range/1/day/{startdate}/{enddate}?adjusted=true&sort=asc&limit=5000&apiKey=EuyLkPNR5tszoUvMnR5fZMjSdoBoNxIm\"\n",
    "DOGE = f\"https://api.polygon.io/v2/aggs/ticker/X:DOGEUSD/range/1/day/{startdate}/{enddate}?adjusted=true&sort=asc&limit=5000&apiKey=EuyLkPNR5tszoUvMnR5fZMjSdoBoNxIm\"\n",
    "SOL = f\"https://api.polygon.io/v2/aggs/ticker/X:SOLUSD/range/1/day/{startdate}/{enddate}?adjusted=true&sort=asc&limit=5000&apiKey=EuyLkPNR5tszoUvMnR5fZMjSdoBoNxIm\"\n",
    "DOT = f\"https://api.polygon.io/v2/aggs/ticker/X:DOTUSD/range/1/day/{startdate}/{enddate}?adjusted=true&sort=asc&limit=5000&apiKey=EuyLkPNR5tszoUvMnR5fZMjSdoBoNxIm\"\n",
    "BNB = f\"https://api.polygon.io/v2/aggs/ticker/X:BNBUSD/range/1/day/{startdate}/{enddate}?adjusted=true&sort=asc&limit=5000&apiKey=EuyLkPNR5tszoUvMnR5fZMjSdoBoNxIm\"\n",
    "UNI = f\"https://api.polygon.io/v2/aggs/ticker/X:UNIUSD/range/1/day/{startdate}/{enddate}?adjusted=true&sort=asc&limit=5000&apiKey=EuyLkPNR5tszoUvMnR5fZMjSdoBoNxIm\""
   ]
  },
  {
   "cell_type": "code",
   "execution_count": 3,
   "id": "0ca004fc",
   "metadata": {},
   "outputs": [],
   "source": [
    "url_list = [BTC, ETH, LTC, DOGE]\n",
    "\n",
    "#url2_list = [SOL, DOT, BNB, UNI]\n"
   ]
  },
  {
   "cell_type": "code",
   "execution_count": 4,
   "id": "1bd6d08b",
   "metadata": {},
   "outputs": [],
   "source": [
    "#function that accepts a variable string URL for pulling the json response file from polygon\n",
    "def polygonurl(coinurl):\n",
    "        response = requests.get(coinurl).json()\n",
    "        return response\n",
    "\n",
    "#function for turning the json file into the dataframe with required columns\n",
    "def jsontodf(json):\n",
    "        df = pd.json_normalize(json, record_path =['results'],\n",
    "        meta =['ticker']\n",
    "        )\n",
    "        raw_data = pd.DataFrame(columns= [\"t\", \"o\", \"h\", \"l\", \"c\", \"v\", \"n\", \"vw\", \"ticker\"])\n",
    "        df = pd.concat([raw_data, df])\n",
    "        return df\n",
    "\n",
    "#function for structuring dataframe so MCsimulation will accept as input\n",
    "def structuredata(df):\n",
    "        df.columns = ['timestamp', 'open', 'high', 'low', 'close', 'volume', 'trade_count', 'vwap', 'symbol']\n",
    "        df['timestamp'] = pd.to_datetime(df['timestamp'], unit='ms')\n",
    "        df = df.set_index('timestamp')\n",
    "        col_names = [(df[\"symbol\"].iloc[0], x) for x in df.columns]\n",
    "        df.drop('symbol')\n",
    "        df.columns = pd.MultiIndex.from_tuples(col_names)\n",
    "        return df\n",
    "\n",
    "\n",
    "#function for saving an invidiual coin data as .csv, not currently being used\n",
    "def savetocsv(df):\n",
    "        filename = f'{df[\"symbol\"].iloc[0]}'\n",
    "        print(filename)\n",
    "        filepath = Path(f'{filename} + \".csv\"')\n",
    "        df.to_csv(filepath)\n",
    "\n",
    "#function to merge two dfs into MCsimulation format\n",
    "def merger(df1, df2):\n",
    "        df_merged = pd.merge(df1, df2, how = \"inner\", left_index=True, right_index=True)\n",
    "        return df_merged\n",
    "\n",
    "\n",
    "#run function that accepts a list of urls defined other variables needed for structuring the combined data\n",
    "def run(list, currentdf, counter):\n",
    "        if(list.index(counter) == 0):\n",
    "                response = polygonurl(i)\n",
    "                df = jsontodf(response)\n",
    "                df = structuredata(df)\n",
    "                #display(df.head())\n",
    "                #print('hi')\n",
    "                return df\n",
    "        else:        \n",
    "                response = polygonurl(i)\n",
    "                df = jsontodf(response)\n",
    "                df = structuredata(df)\n",
    "                df = merger(currentdf, df)\n",
    "                #display(df.head())\n",
    "                #print('ho')\n",
    "                return df\n",
    "\n"
   ]
  },
  {
   "cell_type": "code",
   "execution_count": 5,
   "id": "72c81c3f",
   "metadata": {},
   "outputs": [
    {
     "ename": "KeyError",
     "evalue": "'results'",
     "output_type": "error",
     "traceback": [
      "\u001b[1;31m---------------------------------------------------------------------------\u001b[0m",
      "\u001b[1;31mKeyError\u001b[0m                                  Traceback (most recent call last)",
      "\u001b[1;32m~\\AppData\\Local\\Temp/ipykernel_13696/3564814356.py\u001b[0m in \u001b[0;36m<module>\u001b[1;34m\u001b[0m\n\u001b[0;32m      5\u001b[0m \u001b[1;31m#looping through the urls to build MCsimulation dataframe input\u001b[0m\u001b[1;33m\u001b[0m\u001b[1;33m\u001b[0m\u001b[1;33m\u001b[0m\u001b[0m\n\u001b[0;32m      6\u001b[0m \u001b[1;32mfor\u001b[0m \u001b[0mi\u001b[0m \u001b[1;32min\u001b[0m \u001b[0murl_list\u001b[0m\u001b[1;33m:\u001b[0m\u001b[1;33m\u001b[0m\u001b[1;33m\u001b[0m\u001b[0m\n\u001b[1;32m----> 7\u001b[1;33m         \u001b[0mMCdf\u001b[0m \u001b[1;33m=\u001b[0m \u001b[0mrun\u001b[0m\u001b[1;33m(\u001b[0m\u001b[0murl_list\u001b[0m\u001b[1;33m,\u001b[0m \u001b[0mMCdf\u001b[0m\u001b[1;33m,\u001b[0m \u001b[0mi\u001b[0m\u001b[1;33m)\u001b[0m\u001b[1;33m\u001b[0m\u001b[1;33m\u001b[0m\u001b[0m\n\u001b[0m\u001b[0;32m      8\u001b[0m \u001b[1;33m\u001b[0m\u001b[0m\n\u001b[0;32m      9\u001b[0m \u001b[0mdisplay\u001b[0m\u001b[1;33m(\u001b[0m\u001b[0mMCdf\u001b[0m\u001b[1;33m.\u001b[0m\u001b[0mhead\u001b[0m\u001b[1;33m(\u001b[0m\u001b[1;33m)\u001b[0m\u001b[1;33m)\u001b[0m\u001b[1;33m\u001b[0m\u001b[1;33m\u001b[0m\u001b[0m\n",
      "\u001b[1;32m~\\AppData\\Local\\Temp/ipykernel_13696/1021674113.py\u001b[0m in \u001b[0;36mrun\u001b[1;34m(list, currentdf, counter)\u001b[0m\n\u001b[0;32m     41\u001b[0m         \u001b[1;32mif\u001b[0m\u001b[1;33m(\u001b[0m\u001b[0mlist\u001b[0m\u001b[1;33m.\u001b[0m\u001b[0mindex\u001b[0m\u001b[1;33m(\u001b[0m\u001b[0mcounter\u001b[0m\u001b[1;33m)\u001b[0m \u001b[1;33m==\u001b[0m \u001b[1;36m0\u001b[0m\u001b[1;33m)\u001b[0m\u001b[1;33m:\u001b[0m\u001b[1;33m\u001b[0m\u001b[1;33m\u001b[0m\u001b[0m\n\u001b[0;32m     42\u001b[0m                 \u001b[0mresponse\u001b[0m \u001b[1;33m=\u001b[0m \u001b[0mpolygonurl\u001b[0m\u001b[1;33m(\u001b[0m\u001b[0mi\u001b[0m\u001b[1;33m)\u001b[0m\u001b[1;33m\u001b[0m\u001b[1;33m\u001b[0m\u001b[0m\n\u001b[1;32m---> 43\u001b[1;33m                 \u001b[0mdf\u001b[0m \u001b[1;33m=\u001b[0m \u001b[0mjsontodf\u001b[0m\u001b[1;33m(\u001b[0m\u001b[0mresponse\u001b[0m\u001b[1;33m)\u001b[0m\u001b[1;33m\u001b[0m\u001b[1;33m\u001b[0m\u001b[0m\n\u001b[0m\u001b[0;32m     44\u001b[0m                 \u001b[0mdf\u001b[0m \u001b[1;33m=\u001b[0m \u001b[0mstructuredata\u001b[0m\u001b[1;33m(\u001b[0m\u001b[0mdf\u001b[0m\u001b[1;33m)\u001b[0m\u001b[1;33m\u001b[0m\u001b[1;33m\u001b[0m\u001b[0m\n\u001b[0;32m     45\u001b[0m                 \u001b[1;31m#display(df.head())\u001b[0m\u001b[1;33m\u001b[0m\u001b[1;33m\u001b[0m\u001b[1;33m\u001b[0m\u001b[0m\n",
      "\u001b[1;32m~\\AppData\\Local\\Temp/ipykernel_13696/1021674113.py\u001b[0m in \u001b[0;36mjsontodf\u001b[1;34m(json)\u001b[0m\n\u001b[0;32m      7\u001b[0m \u001b[1;32mdef\u001b[0m \u001b[0mjsontodf\u001b[0m\u001b[1;33m(\u001b[0m\u001b[0mjson\u001b[0m\u001b[1;33m)\u001b[0m\u001b[1;33m:\u001b[0m\u001b[1;33m\u001b[0m\u001b[1;33m\u001b[0m\u001b[0m\n\u001b[0;32m      8\u001b[0m         df = pd.json_normalize(json, record_path =['results'],\n\u001b[1;32m----> 9\u001b[1;33m         \u001b[0mmeta\u001b[0m \u001b[1;33m=\u001b[0m\u001b[1;33m[\u001b[0m\u001b[1;34m'ticker'\u001b[0m\u001b[1;33m]\u001b[0m\u001b[1;33m\u001b[0m\u001b[1;33m\u001b[0m\u001b[0m\n\u001b[0m\u001b[0;32m     10\u001b[0m         )\n\u001b[0;32m     11\u001b[0m         \u001b[0mraw_data\u001b[0m \u001b[1;33m=\u001b[0m \u001b[0mpd\u001b[0m\u001b[1;33m.\u001b[0m\u001b[0mDataFrame\u001b[0m\u001b[1;33m(\u001b[0m\u001b[0mcolumns\u001b[0m\u001b[1;33m=\u001b[0m \u001b[1;33m[\u001b[0m\u001b[1;34m\"t\"\u001b[0m\u001b[1;33m,\u001b[0m \u001b[1;34m\"o\"\u001b[0m\u001b[1;33m,\u001b[0m \u001b[1;34m\"h\"\u001b[0m\u001b[1;33m,\u001b[0m \u001b[1;34m\"l\"\u001b[0m\u001b[1;33m,\u001b[0m \u001b[1;34m\"c\"\u001b[0m\u001b[1;33m,\u001b[0m \u001b[1;34m\"v\"\u001b[0m\u001b[1;33m,\u001b[0m \u001b[1;34m\"n\"\u001b[0m\u001b[1;33m,\u001b[0m \u001b[1;34m\"vw\"\u001b[0m\u001b[1;33m,\u001b[0m \u001b[1;34m\"ticker\"\u001b[0m\u001b[1;33m]\u001b[0m\u001b[1;33m)\u001b[0m\u001b[1;33m\u001b[0m\u001b[1;33m\u001b[0m\u001b[0m\n",
      "\u001b[1;32mC:\\Anaconda3\\envs\\dev\\lib\\site-packages\\pandas\\io\\json\\_normalize.py\u001b[0m in \u001b[0;36m_json_normalize\u001b[1;34m(data, record_path, meta, meta_prefix, record_prefix, errors, sep, max_level)\u001b[0m\n\u001b[0;32m    502\u001b[0m                 \u001b[0mrecords\u001b[0m\u001b[1;33m.\u001b[0m\u001b[0mextend\u001b[0m\u001b[1;33m(\u001b[0m\u001b[0mrecs\u001b[0m\u001b[1;33m)\u001b[0m\u001b[1;33m\u001b[0m\u001b[1;33m\u001b[0m\u001b[0m\n\u001b[0;32m    503\u001b[0m \u001b[1;33m\u001b[0m\u001b[0m\n\u001b[1;32m--> 504\u001b[1;33m     \u001b[0m_recursive_extract\u001b[0m\u001b[1;33m(\u001b[0m\u001b[0mdata\u001b[0m\u001b[1;33m,\u001b[0m \u001b[0mrecord_path\u001b[0m\u001b[1;33m,\u001b[0m \u001b[1;33m{\u001b[0m\u001b[1;33m}\u001b[0m\u001b[1;33m,\u001b[0m \u001b[0mlevel\u001b[0m\u001b[1;33m=\u001b[0m\u001b[1;36m0\u001b[0m\u001b[1;33m)\u001b[0m\u001b[1;33m\u001b[0m\u001b[1;33m\u001b[0m\u001b[0m\n\u001b[0m\u001b[0;32m    505\u001b[0m \u001b[1;33m\u001b[0m\u001b[0m\n\u001b[0;32m    506\u001b[0m     \u001b[0mresult\u001b[0m \u001b[1;33m=\u001b[0m \u001b[0mDataFrame\u001b[0m\u001b[1;33m(\u001b[0m\u001b[0mrecords\u001b[0m\u001b[1;33m)\u001b[0m\u001b[1;33m\u001b[0m\u001b[1;33m\u001b[0m\u001b[0m\n",
      "\u001b[1;32mC:\\Anaconda3\\envs\\dev\\lib\\site-packages\\pandas\\io\\json\\_normalize.py\u001b[0m in \u001b[0;36m_recursive_extract\u001b[1;34m(data, path, seen_meta, level)\u001b[0m\n\u001b[0;32m    475\u001b[0m         \u001b[1;32melse\u001b[0m\u001b[1;33m:\u001b[0m\u001b[1;33m\u001b[0m\u001b[1;33m\u001b[0m\u001b[0m\n\u001b[0;32m    476\u001b[0m             \u001b[1;32mfor\u001b[0m \u001b[0mobj\u001b[0m \u001b[1;32min\u001b[0m \u001b[0mdata\u001b[0m\u001b[1;33m:\u001b[0m\u001b[1;33m\u001b[0m\u001b[1;33m\u001b[0m\u001b[0m\n\u001b[1;32m--> 477\u001b[1;33m                 \u001b[0mrecs\u001b[0m \u001b[1;33m=\u001b[0m \u001b[0m_pull_records\u001b[0m\u001b[1;33m(\u001b[0m\u001b[0mobj\u001b[0m\u001b[1;33m,\u001b[0m \u001b[0mpath\u001b[0m\u001b[1;33m[\u001b[0m\u001b[1;36m0\u001b[0m\u001b[1;33m]\u001b[0m\u001b[1;33m)\u001b[0m\u001b[1;33m\u001b[0m\u001b[1;33m\u001b[0m\u001b[0m\n\u001b[0m\u001b[0;32m    478\u001b[0m                 recs = [\n\u001b[0;32m    479\u001b[0m                     \u001b[0mnested_to_record\u001b[0m\u001b[1;33m(\u001b[0m\u001b[0mr\u001b[0m\u001b[1;33m,\u001b[0m \u001b[0msep\u001b[0m\u001b[1;33m=\u001b[0m\u001b[0msep\u001b[0m\u001b[1;33m,\u001b[0m \u001b[0mmax_level\u001b[0m\u001b[1;33m=\u001b[0m\u001b[0mmax_level\u001b[0m\u001b[1;33m)\u001b[0m\u001b[1;33m\u001b[0m\u001b[1;33m\u001b[0m\u001b[0m\n",
      "\u001b[1;32mC:\\Anaconda3\\envs\\dev\\lib\\site-packages\\pandas\\io\\json\\_normalize.py\u001b[0m in \u001b[0;36m_pull_records\u001b[1;34m(js, spec)\u001b[0m\n\u001b[0;32m    397\u001b[0m         \u001b[1;32mif\u001b[0m \u001b[0mhas\u001b[0m \u001b[0mnon\u001b[0m \u001b[0miterable\u001b[0m \u001b[0mvalue\u001b[0m\u001b[1;33m.\u001b[0m\u001b[1;33m\u001b[0m\u001b[1;33m\u001b[0m\u001b[0m\n\u001b[0;32m    398\u001b[0m         \"\"\"\n\u001b[1;32m--> 399\u001b[1;33m         \u001b[0mresult\u001b[0m \u001b[1;33m=\u001b[0m \u001b[0m_pull_field\u001b[0m\u001b[1;33m(\u001b[0m\u001b[0mjs\u001b[0m\u001b[1;33m,\u001b[0m \u001b[0mspec\u001b[0m\u001b[1;33m)\u001b[0m\u001b[1;33m\u001b[0m\u001b[1;33m\u001b[0m\u001b[0m\n\u001b[0m\u001b[0;32m    400\u001b[0m \u001b[1;33m\u001b[0m\u001b[0m\n\u001b[0;32m    401\u001b[0m         \u001b[1;31m# GH 31507 GH 30145, GH 26284 if result is not list, raise TypeError if not\u001b[0m\u001b[1;33m\u001b[0m\u001b[1;33m\u001b[0m\u001b[1;33m\u001b[0m\u001b[0m\n",
      "\u001b[1;32mC:\\Anaconda3\\envs\\dev\\lib\\site-packages\\pandas\\io\\json\\_normalize.py\u001b[0m in \u001b[0;36m_pull_field\u001b[1;34m(js, spec)\u001b[0m\n\u001b[0;32m    388\u001b[0m                 \u001b[0mresult\u001b[0m \u001b[1;33m=\u001b[0m \u001b[0mresult\u001b[0m\u001b[1;33m[\u001b[0m\u001b[0mfield\u001b[0m\u001b[1;33m]\u001b[0m\u001b[1;33m\u001b[0m\u001b[1;33m\u001b[0m\u001b[0m\n\u001b[0;32m    389\u001b[0m         \u001b[1;32melse\u001b[0m\u001b[1;33m:\u001b[0m\u001b[1;33m\u001b[0m\u001b[1;33m\u001b[0m\u001b[0m\n\u001b[1;32m--> 390\u001b[1;33m             \u001b[0mresult\u001b[0m \u001b[1;33m=\u001b[0m \u001b[0mresult\u001b[0m\u001b[1;33m[\u001b[0m\u001b[0mspec\u001b[0m\u001b[1;33m]\u001b[0m\u001b[1;33m\u001b[0m\u001b[1;33m\u001b[0m\u001b[0m\n\u001b[0m\u001b[0;32m    391\u001b[0m         \u001b[1;32mreturn\u001b[0m \u001b[0mresult\u001b[0m\u001b[1;33m\u001b[0m\u001b[1;33m\u001b[0m\u001b[0m\n\u001b[0;32m    392\u001b[0m \u001b[1;33m\u001b[0m\u001b[0m\n",
      "\u001b[1;31mKeyError\u001b[0m: 'results'"
     ]
    }
   ],
   "source": [
    "#cell for executing the data compiling functions\n",
    "\n",
    "MCdf = pd.DataFrame()\n",
    "\n",
    "#looping through the urls to build MCsimulation dataframe input\n",
    "for i in url_list:\n",
    "        MCdf = run(url_list, MCdf, i)\n",
    "\n",
    "display(MCdf.head())"
   ]
  },
  {
   "cell_type": "code",
   "execution_count": null,
   "id": "c897b7a2",
   "metadata": {},
   "outputs": [],
   "source": [
    "# Configure the Monte Carlo simulation to forecast 30 years cumulative returns\n",
    "# Run 500 samples.\n",
    "MC_equal_weight = MCSimulation(\n",
    "    portfolio_data = MCdf,\n",
    "    num_simulation = 500,\n",
    "    num_trading_days = 252*30\n",
    ")\n",
    "\n",
    "# Review the simulation input data\n",
    "# Printing the first five rows of the simulation input data\n",
    "MC_equal_weight.portfolio_data.head()"
   ]
  },
  {
   "cell_type": "code",
   "execution_count": null,
   "id": "e57d2b36",
   "metadata": {},
   "outputs": [],
   "source": [
    "MC_equal_weight.calc_cumulative_return()"
   ]
  },
  {
   "cell_type": "code",
   "execution_count": null,
   "id": "a1bdfcb1",
   "metadata": {},
   "outputs": [],
   "source": [
    "#MC_equal_weight_plot = MC_6040_weight.plot_simulation()\n",
    "MC_equal_weight_dist = MC_equal_weight.plot_distribution()\n",
    "MC_summary_stats = MC_equal_weight.summarize_cumulative_return()\n",
    "print(MC_summary_stats)"
   ]
  }
 ],
 "metadata": {
  "kernelspec": {
   "display_name": "dev",
   "language": "python",
   "name": "dev"
  },
  "language_info": {
   "codemirror_mode": {
    "name": "ipython",
    "version": 3
   },
   "file_extension": ".py",
   "mimetype": "text/x-python",
   "name": "python",
   "nbconvert_exporter": "python",
   "pygments_lexer": "ipython3",
   "version": "3.7.11"
  }
 },
 "nbformat": 4,
 "nbformat_minor": 5
}
