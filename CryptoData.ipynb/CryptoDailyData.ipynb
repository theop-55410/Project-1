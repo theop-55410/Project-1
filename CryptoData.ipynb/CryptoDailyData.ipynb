{
 "cells": [
  {
   "cell_type": "code",
   "execution_count": 22,
   "id": "2e56c229-47ad-4143-9ead-3c23f2ce7072",
   "metadata": {},
   "outputs": [],
   "source": [
    "import requests\n",
    "import json\n",
    "import pandas as pd\n",
    "from pathlib import Path"
   ]
  },
  {
   "cell_type": "code",
   "execution_count": 23,
   "id": "f9f66922",
   "metadata": {},
   "outputs": [],
   "source": [
    "#tickers = ['X:BTCUSD', 'X:ETHUSD', 'X:LTCUSD', 'X:DOGEUSD', 'X:SOLUSD', 'X:DOTUSD', 'X:BNBUSD', \"X:UNIUSD\"]\n",
    "#tickers = ['X:BTCUSD']"
   ]
  },
  {
   "cell_type": "code",
   "execution_count": 24,
   "id": "8bd63304",
   "metadata": {},
   "outputs": [],
   "source": [
    "BTC_url = \"https://api.polygon.io/v2/aggs/ticker/X:BTCUSD/range/1/day/2017-01-01/2021-12-31?adjusted=true&sort=asc&limit=5000&apiKey=EuyLkPNR5tszoUvMnR5fZMjSdoBoNxIm\"\n",
    "ETH_url = \"https://api.polygon.io/v2/aggs/ticker/X:ETHUSD/range/1/day/2017-01-01/2021-12-31?adjusted=true&sort=asc&limit=5000&apiKey=EuyLkPNR5tszoUvMnR5fZMjSdoBoNxIm\"\n",
    "LTC_url = \"https://api.polygon.io/v2/aggs/ticker/X:LTCUSD/range/1/day/2017-01-01/2021-12-31?adjusted=true&sort=asc&limit=5000&apiKey=EuyLkPNR5tszoUvMnR5fZMjSdoBoNxIm\"\n",
    "DOGE_url = \"https://api.polygon.io/v2/aggs/ticker/X:DOGEUSD/range/1/day/2017-01-01/2021-12-31?adjusted=true&sort=asc&limit=5000&apiKey=EuyLkPNR5tszoUvMnR5fZMjSdoBoNxIm\"\n",
    "SOL_url = \"https://api.polygon.io/v2/aggs/ticker/X:SOLUSD/range/1/day/2017-01-01/2021-12-31?adjusted=true&sort=asc&limit=5000&apiKey=EuyLkPNR5tszoUvMnR5fZMjSdoBoNxIm\"\n",
    "DOT_url = \"https://api.polygon.io/v2/aggs/ticker/X:DOTUSD/range/1/day/2017-01-01/2021-12-31?adjusted=true&sort=asc&limit=5000&apiKey=EuyLkPNR5tszoUvMnR5fZMjSdoBoNxIm\"\n",
    "BNB_url = \"https://api.polygon.io/v2/aggs/ticker/X:BNBUSD/range/1/day/2017-01-01/2021-12-31?adjusted=true&sort=asc&limit=5000&apiKey=EuyLkPNR5tszoUvMnR5fZMjSdoBoNxIm\"\n",
    "UNI_url = \"https://api.polygon.io/v2/aggs/ticker/X:UNIUSD/range/1/day/2017-01-01/2021-12-31?adjusted=true&sort=asc&limit=5000&apiKey=EuyLkPNR5tszoUvMnR5fZMjSdoBoNxIm\""
   ]
  },
  {
   "cell_type": "code",
   "execution_count": 25,
   "id": "0ca004fc",
   "metadata": {},
   "outputs": [],
   "source": [
    "url_list = [BTC_url, ETH_url, LTC_url, DOGE_url]\n",
    "\n",
    "url2_list = [SOL_url, DOT_url, BNB_url, UNI_url]\n"
   ]
  },
  {
   "cell_type": "code",
   "execution_count": 26,
   "id": "e3d1449a",
   "metadata": {},
   "outputs": [],
   "source": [
    "def polygonurl(list):\n",
    "    for i in list: \n",
    "        response = requests.get(i).json()\n",
    "        df = pd.json_normalize(response, record_path =['results'],\n",
    "        meta =['ticker']\n",
    "        )\n",
    "    return df\n",
    "\n"
   ]
  },
  {
   "cell_type": "code",
   "execution_count": 31,
   "id": "d53be8ac",
   "metadata": {},
   "outputs": [
    {
     "name": "stdout",
     "output_type": "stream",
     "text": [
      "https://api.polygon.io/v2/aggs/ticker/X:SOLUSD/range/1/day/2017-01-01/2021-12-31?adjusted=true&sort=asc&limit=5000&apiKey=EuyLkPNR5tszoUvMnR5fZMjSdoBoNxIm\n",
      "https://api.polygon.io/v2/aggs/ticker/X:DOTUSD/range/1/day/2017-01-01/2021-12-31?adjusted=true&sort=asc&limit=5000&apiKey=EuyLkPNR5tszoUvMnR5fZMjSdoBoNxIm\n",
      "https://api.polygon.io/v2/aggs/ticker/X:BNBUSD/range/1/day/2017-01-01/2021-12-31?adjusted=true&sort=asc&limit=5000&apiKey=EuyLkPNR5tszoUvMnR5fZMjSdoBoNxIm\n",
      "https://api.polygon.io/v2/aggs/ticker/X:UNIUSD/range/1/day/2017-01-01/2021-12-31?adjusted=true&sort=asc&limit=5000&apiKey=EuyLkPNR5tszoUvMnR5fZMjSdoBoNxIm\n"
     ]
    }
   ],
   "source": [
    "raw_data = pd.DataFrame(columns= [\"c\", \"h\", \"l\", \"n\", \"o\", \"t\", \"v\", \"vw\", \"ticker\"])\n",
    "\n",
    "for i in url2_list:\n",
    "    raw_data = pd.concat([raw_data, polygonurl([i])])\n",
    "    print(i)\n",
    "\n",
    "filepath = Path('set2out.csv')  \n",
    "raw_data.to_csv(filepath) \n",
    "raw_data = pd.DataFrame(columns= [\"c\", \"h\", \"l\", \"n\", \"o\", \"t\", \"v\", \"vw\", \"ticker\"])\n",
    "\n",
    "#for i in url2_list:\n",
    "#    raw_data = pd.concat([raw_data, polygonurl([i])])\n",
    "\n",
    "#filepath = Path('set2out.csv')  \n",
    "#filepath.parent.mkdir(parents=True, exist_ok=True)  \n",
    "#raw_data.to_csv(filepath) \n"
   ]
  }
 ],
 "metadata": {
  "kernelspec": {
   "display_name": "dev",
   "language": "python",
   "name": "dev"
  },
  "language_info": {
   "codemirror_mode": {
    "name": "ipython",
    "version": 3
   },
   "file_extension": ".py",
   "mimetype": "text/x-python",
   "name": "python",
   "nbconvert_exporter": "python",
   "pygments_lexer": "ipython3",
   "version": "3.7.11"
  }
 },
 "nbformat": 4,
 "nbformat_minor": 5
}
